{
  "nbformat": 4,
  "nbformat_minor": 0,
  "metadata": {
    "colab": {
      "name": "Sarcasm detection using News Headlines.ipynb",
      "version": "0.3.2",
      "provenance": [],
      "collapsed_sections": []
    },
    "kernelspec": {
      "name": "python3",
      "display_name": "Python 3"
    }
  },
  "cells": [
    {
      "cell_type": "code",
      "metadata": {
        "id": "Wi4zvBftwdQ_",
        "colab_type": "code",
        "outputId": "5729a1ff-6721-4d0c-e790-b8bca6051f08",
        "colab": {
          "base_uri": "https://localhost:8080/",
          "height": 204
        }
      },
      "source": [
        "!wget --no-check-certificate \\\n",
        "    https://storage.googleapis.com/laurencemoroney-blog.appspot.com/sarcasm.json \\\n",
        "    -O /tmp/sarcasm.json"
      ],
      "execution_count": 2,
      "outputs": [
        {
          "output_type": "stream",
          "text": [
            "--2019-07-08 07:17:17--  https://storage.googleapis.com/laurencemoroney-blog.appspot.com/sarcasm.json\n",
            "Resolving storage.googleapis.com (storage.googleapis.com)... 74.125.20.128, 2607:f8b0:400e:c09::80\n",
            "Connecting to storage.googleapis.com (storage.googleapis.com)|74.125.20.128|:443... connected.\n",
            "HTTP request sent, awaiting response... 200 OK\n",
            "Length: 5643545 (5.4M) [application/json]\n",
            "Saving to: ‘/tmp/sarcasm.json’\n",
            "\n",
            "\r/tmp/sarcasm.json     0%[                    ]       0  --.-KB/s               \r/tmp/sarcasm.json   100%[===================>]   5.38M  --.-KB/s    in 0.06s   \n",
            "\n",
            "2019-07-08 07:17:17 (84.0 MB/s) - ‘/tmp/sarcasm.json’ saved [5643545/5643545]\n",
            "\n"
          ],
          "name": "stdout"
        }
      ]
    },
    {
      "cell_type": "code",
      "metadata": {
        "id": "FxqjCHDKAJ5m",
        "colab_type": "code",
        "colab": {}
      },
      "source": [
        "import json"
      ],
      "execution_count": 0,
      "outputs": []
    },
    {
      "cell_type": "code",
      "metadata": {
        "id": "o9-N9q4VBF5W",
        "colab_type": "code",
        "colab": {}
      },
      "source": [
        "with open(\"/tmp/sarcasm.json\" , 'r') as file:\n",
        "  datastore = json.load(file)"
      ],
      "execution_count": 0,
      "outputs": []
    },
    {
      "cell_type": "code",
      "metadata": {
        "id": "8rolwZgpBG9O",
        "colab_type": "code",
        "colab": {}
      },
      "source": [
        "vocab_size = 10000\n",
        "embedding_dim = 16\n",
        "max_length = 32\n",
        "trunc_type = 'post'\n",
        "padding_type = 'post'\n",
        "oov_token = '<OOV>'\n",
        "training_size = 10000"
      ],
      "execution_count": 0,
      "outputs": []
    },
    {
      "cell_type": "code",
      "metadata": {
        "id": "BVUlKNK6BG_-",
        "colab_type": "code",
        "colab": {}
      },
      "source": [
        "sentences = []\n",
        "labels = []\n",
        "urls = []\n",
        "for item in datastore:\n",
        "  sentences.append(item['headline'])\n",
        "  labels.append(item['is_sarcastic'])\n",
        "  urls.append(item['article_link'])"
      ],
      "execution_count": 0,
      "outputs": []
    },
    {
      "cell_type": "code",
      "metadata": {
        "id": "lMkJbXkDBHCu",
        "colab_type": "code",
        "outputId": "53ff04e5-5536-4be0-8115-4978e496bb59",
        "colab": {
          "base_uri": "https://localhost:8080/",
          "height": 54
        }
      },
      "source": [
        "print ( sentences[0:5] , labels[0:5]  )"
      ],
      "execution_count": 7,
      "outputs": [
        {
          "output_type": "stream",
          "text": [
            "[\"former versace store clerk sues over secret 'black code' for minority shoppers\", \"the 'roseanne' revival catches up to our thorny political mood, for better and worse\", \"mom starting to fear son's web series closest thing she will have to grandchild\", 'boehner just wants wife to listen, not come up with alternative debt-reduction ideas', 'j.k. rowling wishes snape happy birthday in the most magical way'] [0, 0, 1, 1, 0]\n"
          ],
          "name": "stdout"
        }
      ]
    },
    {
      "cell_type": "code",
      "metadata": {
        "id": "DMh__aZHBHFI",
        "colab_type": "code",
        "colab": {}
      },
      "source": [
        "from tensorflow.keras.preprocessing.text import Tokenizer\n",
        "from tensorflow.keras.preprocessing.sequence import pad_sequences"
      ],
      "execution_count": 0,
      "outputs": []
    },
    {
      "cell_type": "code",
      "metadata": {
        "id": "bHNepq6fymdw",
        "colab_type": "code",
        "colab": {}
      },
      "source": [
        "# Splitting the dataset\n",
        "training_sentences = sentences[0:training_size]\n",
        "testing_sentences = sentences[training_size:]\n",
        "training_labels = labels[0:training_size]\n",
        "testing_labels = labels[training_size:]\n"
      ],
      "execution_count": 0,
      "outputs": []
    },
    {
      "cell_type": "code",
      "metadata": {
        "id": "WZoDfiavymkf",
        "colab_type": "code",
        "colab": {}
      },
      "source": [
        "tokenizer = Tokenizer(num_words=vocab_size, oov_token=oov_token)\n",
        "tokenizer.fit_on_texts(training_sentences)\n",
        "\n",
        "word_index = tokenizer.word_index\n",
        "\n",
        "training_sequences = tokenizer.texts_to_sequences(training_sentences)\n",
        "training_padded = pad_sequences(training_sequences, maxlen=max_length, padding=padding_type, truncating=trunc_type)\n",
        "\n",
        "testing_sequences = tokenizer.texts_to_sequences(testing_sentences)\n",
        "testing_padded = pad_sequences(testing_sequences, maxlen=max_length, padding=padding_type, truncating=trunc_type)"
      ],
      "execution_count": 0,
      "outputs": []
    },
    {
      "cell_type": "code",
      "metadata": {
        "id": "AaAXg31fBHHr",
        "colab_type": "code",
        "colab": {
          "base_uri": "https://localhost:8080/",
          "height": 207
        },
        "outputId": "359b4542-109b-4472-d466-2e05324e6040"
      },
      "source": [
        "import tensorflow as tf\n",
        "model = tf.keras.Sequential([\n",
        "    tf.keras.layers.Embedding(vocab_size, embedding_dim, input_length=max_length),\n",
        "    tf.keras.layers.GlobalAveragePooling1D(),\n",
        "    tf.keras.layers.Dense(24, activation='relu'),\n",
        "    tf.keras.layers.Dense(1, activation='sigmoid')\n",
        "])\n",
        "model.compile(loss='binary_crossentropy',optimizer='adam',metrics=['accuracy'])"
      ],
      "execution_count": 13,
      "outputs": [
        {
          "output_type": "stream",
          "text": [
            "WARNING: Logging before flag parsing goes to stderr.\n",
            "W0708 07:17:59.016544 140279305697152 deprecation.py:506] From /usr/local/lib/python3.6/dist-packages/tensorflow/python/keras/initializers.py:119: calling RandomUniform.__init__ (from tensorflow.python.ops.init_ops) with dtype is deprecated and will be removed in a future version.\n",
            "Instructions for updating:\n",
            "Call initializer instance with the dtype argument instead of passing it to the constructor\n",
            "W0708 07:17:59.023684 140279305697152 deprecation.py:506] From /usr/local/lib/python3.6/dist-packages/tensorflow/python/ops/init_ops.py:1251: calling VarianceScaling.__init__ (from tensorflow.python.ops.init_ops) with dtype is deprecated and will be removed in a future version.\n",
            "Instructions for updating:\n",
            "Call initializer instance with the dtype argument instead of passing it to the constructor\n",
            "W0708 07:17:59.134051 140279305697152 deprecation.py:323] From /usr/local/lib/python3.6/dist-packages/tensorflow/python/ops/nn_impl.py:180: add_dispatch_support.<locals>.wrapper (from tensorflow.python.ops.array_ops) is deprecated and will be removed in a future version.\n",
            "Instructions for updating:\n",
            "Use tf.where in 2.0, which has the same broadcast rule as np.where\n"
          ],
          "name": "stderr"
        }
      ]
    },
    {
      "cell_type": "code",
      "metadata": {
        "id": "lPtXY-ZFBHKd",
        "colab_type": "code",
        "colab": {
          "base_uri": "https://localhost:8080/",
          "height": 289
        },
        "outputId": "5eb0aec6-4d32-4a79-a730-b85bd74849a2"
      },
      "source": [
        "\n",
        "model.summary()"
      ],
      "execution_count": 14,
      "outputs": [
        {
          "output_type": "stream",
          "text": [
            "Model: \"sequential\"\n",
            "_________________________________________________________________\n",
            "Layer (type)                 Output Shape              Param #   \n",
            "=================================================================\n",
            "embedding (Embedding)        (None, 32, 16)            160000    \n",
            "_________________________________________________________________\n",
            "global_average_pooling1d (Gl (None, 16)                0         \n",
            "_________________________________________________________________\n",
            "dense (Dense)                (None, 24)                408       \n",
            "_________________________________________________________________\n",
            "dense_1 (Dense)              (None, 1)                 25        \n",
            "=================================================================\n",
            "Total params: 160,433\n",
            "Trainable params: 160,433\n",
            "Non-trainable params: 0\n",
            "_________________________________________________________________\n"
          ],
          "name": "stdout"
        }
      ]
    },
    {
      "cell_type": "code",
      "metadata": {
        "id": "P7GkP9biBHMm",
        "colab_type": "code",
        "colab": {
          "base_uri": "https://localhost:8080/",
          "height": 1000
        },
        "outputId": "cd92697d-3ee8-4345-87fd-0601c3470983"
      },
      "source": [
        "num_epochs = 30\n",
        "history = model.fit(training_padded, training_labels, epochs=num_epochs, validation_data=(testing_padded, testing_labels), verbose=2)"
      ],
      "execution_count": 15,
      "outputs": [
        {
          "output_type": "stream",
          "text": [
            "Train on 10000 samples, validate on 16709 samples\n",
            "Epoch 1/30\n",
            "10000/10000 - 2s - loss: 0.6722 - acc: 0.5698 - val_loss: 0.6192 - val_acc: 0.6566\n",
            "Epoch 2/30\n",
            "10000/10000 - 1s - loss: 0.4775 - acc: 0.8215 - val_loss: 0.4106 - val_acc: 0.8227\n",
            "Epoch 3/30\n",
            "10000/10000 - 1s - loss: 0.3109 - acc: 0.8854 - val_loss: 0.3660 - val_acc: 0.8389\n",
            "Epoch 4/30\n",
            "10000/10000 - 1s - loss: 0.2362 - acc: 0.9155 - val_loss: 0.3549 - val_acc: 0.8436\n",
            "Epoch 5/30\n",
            "10000/10000 - 1s - loss: 0.1857 - acc: 0.9356 - val_loss: 0.3608 - val_acc: 0.8431\n",
            "Epoch 6/30\n",
            "10000/10000 - 1s - loss: 0.1478 - acc: 0.9521 - val_loss: 0.3743 - val_acc: 0.8407\n",
            "Epoch 7/30\n",
            "10000/10000 - 1s - loss: 0.1204 - acc: 0.9622 - val_loss: 0.3950 - val_acc: 0.8386\n",
            "Epoch 8/30\n",
            "10000/10000 - 1s - loss: 0.0971 - acc: 0.9720 - val_loss: 0.4200 - val_acc: 0.8378\n",
            "Epoch 9/30\n",
            "10000/10000 - 1s - loss: 0.0798 - acc: 0.9789 - val_loss: 0.4474 - val_acc: 0.8343\n",
            "Epoch 10/30\n",
            "10000/10000 - 1s - loss: 0.0656 - acc: 0.9843 - val_loss: 0.4780 - val_acc: 0.8329\n",
            "Epoch 11/30\n",
            "10000/10000 - 1s - loss: 0.0551 - acc: 0.9865 - val_loss: 0.5191 - val_acc: 0.8288\n",
            "Epoch 12/30\n",
            "10000/10000 - 1s - loss: 0.0462 - acc: 0.9894 - val_loss: 0.5435 - val_acc: 0.8289\n",
            "Epoch 13/30\n",
            "10000/10000 - 1s - loss: 0.0386 - acc: 0.9920 - val_loss: 0.5729 - val_acc: 0.8263\n",
            "Epoch 14/30\n",
            "10000/10000 - 1s - loss: 0.0322 - acc: 0.9935 - val_loss: 0.6080 - val_acc: 0.8223\n",
            "Epoch 15/30\n",
            "10000/10000 - 1s - loss: 0.0276 - acc: 0.9945 - val_loss: 0.6415 - val_acc: 0.8218\n",
            "Epoch 16/30\n",
            "10000/10000 - 1s - loss: 0.0235 - acc: 0.9955 - val_loss: 0.6764 - val_acc: 0.8200\n",
            "Epoch 17/30\n",
            "10000/10000 - 1s - loss: 0.0196 - acc: 0.9963 - val_loss: 0.7130 - val_acc: 0.8181\n",
            "Epoch 18/30\n",
            "10000/10000 - 1s - loss: 0.0165 - acc: 0.9972 - val_loss: 0.7513 - val_acc: 0.8163\n",
            "Epoch 19/30\n",
            "10000/10000 - 1s - loss: 0.0141 - acc: 0.9974 - val_loss: 0.7883 - val_acc: 0.8143\n",
            "Epoch 20/30\n",
            "10000/10000 - 1s - loss: 0.0121 - acc: 0.9971 - val_loss: 0.8284 - val_acc: 0.8106\n",
            "Epoch 21/30\n",
            "10000/10000 - 1s - loss: 0.0099 - acc: 0.9983 - val_loss: 0.8861 - val_acc: 0.8109\n",
            "Epoch 22/30\n",
            "10000/10000 - 1s - loss: 0.0083 - acc: 0.9986 - val_loss: 0.8994 - val_acc: 0.8107\n",
            "Epoch 23/30\n",
            "10000/10000 - 1s - loss: 0.0075 - acc: 0.9986 - val_loss: 0.9526 - val_acc: 0.8100\n",
            "Epoch 24/30\n",
            "10000/10000 - 1s - loss: 0.0062 - acc: 0.9987 - val_loss: 0.9923 - val_acc: 0.8002\n",
            "Epoch 25/30\n",
            "10000/10000 - 1s - loss: 0.0054 - acc: 0.9991 - val_loss: 1.0096 - val_acc: 0.8051\n",
            "Epoch 26/30\n",
            "10000/10000 - 1s - loss: 0.0046 - acc: 0.9992 - val_loss: 1.0482 - val_acc: 0.8055\n",
            "Epoch 27/30\n",
            "10000/10000 - 1s - loss: 0.0038 - acc: 0.9993 - val_loss: 1.0866 - val_acc: 0.8053\n",
            "Epoch 28/30\n",
            "10000/10000 - 1s - loss: 0.0037 - acc: 0.9995 - val_loss: 1.1288 - val_acc: 0.8041\n",
            "Epoch 29/30\n",
            "10000/10000 - 1s - loss: 0.0033 - acc: 0.9997 - val_loss: 1.1693 - val_acc: 0.8044\n",
            "Epoch 30/30\n",
            "10000/10000 - 1s - loss: 0.0026 - acc: 0.9996 - val_loss: 1.2178 - val_acc: 0.8018\n"
          ],
          "name": "stdout"
        }
      ]
    },
    {
      "cell_type": "code",
      "metadata": {
        "id": "QsWYg0TnBHPL",
        "colab_type": "code",
        "outputId": "ea0e725e-b427-419d-c5e2-3fed865e497f",
        "colab": {
          "base_uri": "https://localhost:8080/",
          "height": 549
        }
      },
      "source": [
        "import matplotlib.pyplot as plt\n",
        "\n",
        "\n",
        "def plot_graphs(history, string):\n",
        "  plt.plot(history.history[string])\n",
        "  plt.plot(history.history['val_' +string])\n",
        "  plt.xlabel(\"Epochs\")\n",
        "  plt.ylabel(string)\n",
        "  plt.legend([string, 'val_'+string])\n",
        "  plt.show()\n",
        "  \n",
        "plot_graphs(history, \"acc\")\n",
        "plot_graphs(history, \"loss\")"
      ],
      "execution_count": 17,
      "outputs": [
        {
          "output_type": "display_data",
          "data": {
            "image/png": "[encoded data removed]",
            "text/plain": [
              "<Figure size 432x288 with 1 Axes>"
            ]
          },
          "metadata": {
            "tags": []
          }
        },
        {
          "output_type": "display_data",
          "data": {
            "image/png": "[encoded data removed]",
            "text/plain": [
              "<Figure size 432x288 with 1 Axes>"
            ]
          },
          "metadata": {
            "tags": []
          }
        }
      ]
    },
    {
      "cell_type": "code",
      "metadata": {
        "id": "ULmnSGCVBHRi",
        "colab_type": "code",
        "outputId": "58bddab7-f155-456a-b867-e1bcb70f9e8a",
        "colab": {
          "base_uri": "https://localhost:8080/",
          "height": 51
        }
      },
      "source": [
        "# Predict on a Sentence\n",
        "\n",
        "sentence = [\"granny starting to fear spiders in the garden might be real\", \"game of thrones season finale showing this sunday night\"]\n",
        "sequences = tokenizer.texts_to_sequences(sentence)\n",
        "padded = pad_sequences(sequences, maxlen=max_length, padding=padding_type, truncating=trunc_type)\n",
        "print(model.predict(padded))\n",
        "\n",
        "# The result is the probability for each class. The first value is the probability for Class - 0 and the second value is the probability for Class - 1"
      ],
      "execution_count": 19,
      "outputs": [
        {
          "output_type": "stream",
          "text": [
            "[[8.2697695e-01]\n",
            " [4.1572232e-05]]\n"
          ],
          "name": "stdout"
        }
      ]
    }
  ]
}